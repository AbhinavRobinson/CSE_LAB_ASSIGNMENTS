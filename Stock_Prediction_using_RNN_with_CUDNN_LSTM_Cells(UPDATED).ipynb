{
  "nbformat": 4,
  "nbformat_minor": 0,
  "metadata": {
    "colab": {
      "name": "Stock_Prediction_using_RNN_with_CUDNN-LSTM_Cells(UPDATED).ipynb",
      "provenance": [],
      "toc_visible": true,
      "include_colab_link": true
    },
    "kernelspec": {
      "name": "python3",
      "display_name": "Python 3"
    },
    "accelerator": "GPU"
  },
  "cells": [
    {
      "cell_type": "markdown",
      "metadata": {
        "id": "view-in-github",
        "colab_type": "text"
      },
      "source": [
        "<a href=\"https://colab.research.google.com/github/AbhinavRobinson/CSE_LAB_ASSIGNMENTS/blob/master/Stock_Prediction_using_RNN_with_CUDNN_LSTM_Cells(UPDATED).ipynb\" target=\"_parent\"><img src=\"https://colab.research.google.com/assets/colab-badge.svg\" alt=\"Open In Colab\"/></a>"
      ]
    },
    {
      "cell_type": "markdown",
      "metadata": {
        "id": "dgOk6ZIuQ1_7",
        "colab_type": "text"
      },
      "source": [
        "# Stock Prediction Using RNN and CuDNNLSTMs\n",
        "##For Education Use Only\n",
        "> Disclaimer : USE THIS FOR BETTING AT YOUR OWN RISK \n",
        "\n",
        "Hi there!\n",
        "\n",
        "In this Assignment of EMAT203L , We make a stock prediction algorithm.\n",
        "\n",
        "One way to achive this is using RNN, implemented via TensorFlow. \n",
        "We will be using TensorFlow 1.15 for this. This program may not be compatible with TensorFlow 2.X.X.\n",
        "Read the Documentation carefully!\n",
        "\n",
        "-Abhinav Robinson :)"
      ]
    },
    {
      "cell_type": "markdown",
      "metadata": {
        "id": "ryIts52JRM40",
        "colab_type": "text"
      },
      "source": [
        "#Method\n",
        "\n",
        "We are only concerned with the \"Close\" data at this moment.\n",
        "Hence we will use pandas to cleanup the data, enter data inside a Dataframe, with only the relavant columns."
      ]
    },
    {
      "cell_type": "code",
      "metadata": {
        "id": "xgWpLdORW7k4",
        "colab_type": "code",
        "outputId": "1f673373-7d89-4e5b-f926-dcc2463124df",
        "colab": {
          "base_uri": "https://localhost:8080/",
          "height": 139
        }
      },
      "source": [
        "import pandas as pd\n",
        "\n",
        "# Lets check the data :)\n",
        "main_df = pd.DataFrame()\n",
        "\n",
        "# Lets combine all data in one dataframe\n",
        "ratios = [\"BJB-INR\",\"BBA-INR\",\"PNB-INR\",\"YES-INR\"]\n",
        "for ratio in ratios:\n",
        "  dataset = f\"{ratio}.csv\"\n",
        "  # #IF new dataset obtained from LMS\n",
        "  df = pd.read_csv(dataset,  \n",
        "                   names=[\"time\",\"open\",\"high\",\"low\",\"close\"],\n",
        "                   encoding = \"UTF-8\", \n",
        "                   header = 1)\n",
        "  # #ELSE if row[1] removed\n",
        "#   df = pd.read_csv(dataset,  \n",
        "#                    names=[\"time\",\"open\",\"high\",\"low\",\"close\"],\n",
        "#                    encoding = \"UTF-8\")\n",
        "  df.rename(columns={\"close\": f\"{ratio}_close\"}, \n",
        "            inplace=True)\n",
        "  df.set_index(\"time\",inplace=True)\n",
        "  df = df[[f\"{ratio}_close\"]]\n",
        "\n",
        "  if len(main_df) == 0:\n",
        "    main_df = df\n",
        "  else:\n",
        "    main_df = main_df.join(df)\n",
        "\n",
        "# Lets Test our data cleanup\n",
        "print(main_df.head())"
      ],
      "execution_count": 0,
      "outputs": [
        {
          "output_type": "stream",
          "text": [
            "            BJB-INR_close  BBA-INR_close  PNB-INR_close  YES-INR_close\n",
            "time                                                                  \n",
            "29-08-2019        3299.30          91.80          65.05          57.40\n",
            "28-08-2019        3326.35          94.50          65.65          59.50\n",
            "27-08-2019        3357.75          97.30          67.15          64.50\n",
            "26-08-2019        3324.25          95.05          65.75          62.90\n",
            "23-08-2019        3174.35          93.50          63.60          59.25\n"
          ],
          "name": "stdout"
        }
      ]
    },
    {
      "cell_type": "code",
      "metadata": {
        "id": "u2UG9AQTXXyo",
        "colab_type": "code",
        "colab": {}
      },
      "source": [
        "import time\n",
        "# Now we define some time variables\n",
        "# Based on last 20 days\n",
        "SEQ_LEN = 20\n",
        "# We predict next 1 day\n",
        "FUTURE_PERIOD_PREDICT = 1\n",
        "# on the Bank Of Baroda EQ Close\n",
        "RATIO_TO_PREDICT = \"BBA-INR\"\n",
        "# Defining no. of EPOCHS, THIS is large so we can observe the trends\n",
        "EPOCHS = 256\n",
        "# Defining Batch Size\n",
        "BATCH_SIZE = 64\n",
        "# Adding Names\n",
        "NAME = f\"{SEQ_LEN}-SEQ-{FUTURE_PERIOD_PREDICT}-PRED-{int(time.time())}\""
      ],
      "execution_count": 0,
      "outputs": []
    },
    {
      "cell_type": "code",
      "metadata": {
        "id": "RDlK4H3jYOzv",
        "colab_type": "code",
        "colab": {}
      },
      "source": [
        "def classify(current, future):\n",
        "  # aka, good thing, buy\n",
        "  if float(future) > float(current): return 1\n",
        "  # not a good thing, maybe? ;)\n",
        "  else: return 0"
      ],
      "execution_count": 0,
      "outputs": []
    },
    {
      "cell_type": "code",
      "metadata": {
        "id": "v3RPb3RpYRyC",
        "colab_type": "code",
        "outputId": "8c7d8352-2329-454f-e9db-897205553c54",
        "colab": {
          "base_uri": "https://localhost:8080/",
          "height": 139
        }
      },
      "source": [
        "# Lets add future price as a column\n",
        "main_df['future'] = main_df[f\"{RATIO_TO_PREDICT}_close\"].shift(-FUTURE_PERIOD_PREDICT)\n",
        "print(main_df[[f\"{RATIO_TO_PREDICT}_close\", \"future\"]].head())"
      ],
      "execution_count": 0,
      "outputs": [
        {
          "output_type": "stream",
          "text": [
            "            BBA-INR_close  future\n",
            "time                             \n",
            "29-08-2019          91.80   94.50\n",
            "28-08-2019          94.50   97.30\n",
            "27-08-2019          97.30   95.05\n",
            "26-08-2019          95.05   93.50\n",
            "23-08-2019          93.50   90.65\n"
          ],
          "name": "stdout"
        }
      ]
    },
    {
      "cell_type": "code",
      "metadata": {
        "id": "gp2F28FaYWgd",
        "colab_type": "code",
        "outputId": "00c72e35-5a16-4f7a-a7b9-32dc198a78c1",
        "colab": {
          "base_uri": "https://localhost:8080/",
          "height": 226
        }
      },
      "source": [
        "# add output of classify to a list shown as a column\n",
        "main_df['target'] = list(map(classify, \n",
        "                             main_df[f\"{RATIO_TO_PREDICT}_close\"],\n",
        "                             main_df[\"future\"]))\n",
        "\n",
        "print(main_df[[f\"{RATIO_TO_PREDICT}_close\", \"future\", \"target\"]].head(10))"
      ],
      "execution_count": 0,
      "outputs": [
        {
          "output_type": "stream",
          "text": [
            "            BBA-INR_close  future  target\n",
            "time                                     \n",
            "29-08-2019          91.80   94.50       1\n",
            "28-08-2019          94.50   97.30       1\n",
            "27-08-2019          97.30   95.05       0\n",
            "26-08-2019          95.05   93.50       0\n",
            "23-08-2019          93.50   90.65       0\n",
            "22-08-2019          90.65   94.85       1\n",
            "21-08-2019          94.85   98.70       1\n",
            "20-08-2019          98.70  102.60       1\n",
            "19-08-2019         102.60  102.45       0\n",
            "16-08-2019         102.45  101.10       0\n"
          ],
          "name": "stdout"
        }
      ]
    },
    {
      "cell_type": "code",
      "metadata": {
        "id": "NT9mcxGgYYmN",
        "colab_type": "code",
        "colab": {}
      },
      "source": [
        "# Noramlly data is sorted, but just in case\n",
        "# .values converts index values to numpy array\n",
        "times = sorted(main_df.index.values)\n",
        "# now we seperate the last 5% data for test data\n",
        "# last_5pct is a unix timestamp\n",
        "last_5pct = times[-int(0.05*len(times))]\n",
        "\n",
        "# Now we split the data\n",
        "validation_main_df = main_df[(main_df.index >= last_5pct)]\n",
        "main_df = main_df[(main_df.index < last_5pct)]"
      ],
      "execution_count": 0,
      "outputs": []
    },
    {
      "cell_type": "code",
      "metadata": {
        "id": "Yl4WD-x-Yi_I",
        "colab_type": "code",
        "colab": {}
      },
      "source": [
        "# Import some more libraries ;_;\n",
        "from sklearn import preprocessing\n",
        "from collections import deque\n",
        "import random\n",
        "import numpy as np\n",
        "\n",
        "# Preprocess DF to scale all values of diff. coins on one scale\n",
        "# and add percent change\n",
        "def preprocess_df(df):\n",
        "  df = df.drop('future',1)\n",
        "\n",
        "  for col in df.columns:\n",
        "    if col != 'target':\n",
        "      df[col] = df[col].pct_change()\n",
        "      df.dropna(inplace=True)\n",
        "      df[col] = preprocessing.scale(df[col].values)\n",
        "\n",
        "  df.dropna(inplace=True)\n",
        "\n",
        "  sequential_data = []\n",
        "  prev_days = deque(maxlen = SEQ_LEN)\n",
        "  print(df.head())\n",
        "\n",
        "  for i in df.values:\n",
        "    prev_days.append([n for n in i[:-1]]) \n",
        "    if len(prev_days) == SEQ_LEN:\n",
        "      sequential_data.append([np.array(prev_days), i[-1]])\n",
        "\n",
        "  random.shuffle(sequential_data)\n",
        "\n",
        "  buys = []\n",
        "  sells = []\n",
        "\n",
        "  for seq, target, in sequential_data:\n",
        "    if target == 0:\n",
        "      sells.append([seq, target])\n",
        "    elif target == 1:\n",
        "      buys.append([seq, target])\n",
        "\n",
        "  random.shuffle(buys)\n",
        "  random.shuffle(sells)\n",
        "\n",
        "  lower = min(len(buys), len(sells))\n",
        "\n",
        "  # Upto 30K\n",
        "  buys = buys[:lower]\n",
        "  sells = sells[:lower]\n",
        "\n",
        "  sequential_data = buys+sells\n",
        "  random.shuffle(sequential_data)\n",
        "\n",
        "  X = []\n",
        "  y = []\n",
        "\n",
        "  for seq,target in sequential_data:\n",
        "    X.append(seq)\n",
        "    y.append(target)\n",
        "\n",
        "  return np.array(X), y"
      ],
      "execution_count": 0,
      "outputs": []
    },
    {
      "cell_type": "code",
      "metadata": {
        "id": "hiBJE9lCY3S-",
        "colab_type": "code",
        "outputId": "c62f4be1-5d25-4cda-9b75-35ba437f6758",
        "colab": {
          "base_uri": "https://localhost:8080/",
          "height": 260
        }
      },
      "source": [
        "train_x , train_y = preprocess_df(main_df)\n",
        "validation_x , validation_y = preprocess_df(validation_main_df)"
      ],
      "execution_count": 0,
      "outputs": [
        {
          "output_type": "stream",
          "text": [
            "            BJB-INR_close  BBA-INR_close  PNB-INR_close  YES-INR_close  target\n",
            "time                                                                          \n",
            "23-08-2019      -1.930195      -0.663428      -1.330491      -1.937743       0\n",
            "22-08-2019      -0.763274      -1.230598      -1.374633      -1.663351       1\n",
            "21-08-2019       2.199421       1.843056       1.664843       5.377373       1\n",
            "20-08-2019       0.532283       1.613307       0.941631       2.948053       1\n",
            "19-08-2019       0.545485       1.570222       1.010106       2.543769       0\n",
            "            BJB-INR_close  BBA-INR_close  PNB-INR_close  YES-INR_close  target\n",
            "time                                                                          \n",
            "30-04-2019      -0.817659      -1.451630       0.218579       0.657223       1\n",
            "31-01-2019      -1.440030      -0.412944      -0.761171       1.195323       1\n",
            "30-01-2019       0.467419       0.073770      -0.126237       0.235314       1\n",
            "31-12-2018       0.587590       0.422257      -0.018600      -0.641941       0\n",
            "30-11-2018      -0.058739      -1.236531      -0.896064      -0.470956       0\n"
          ],
          "name": "stdout"
        }
      ]
    },
    {
      "cell_type": "code",
      "metadata": {
        "id": "boQLF5-YY7GW",
        "colab_type": "code",
        "colab": {}
      },
      "source": [
        "# LETS IMPORT ALL TENSORFLOW MODULES\n",
        "import tensorflow as tf\n",
        "from tensorflow.keras.models import Sequential\n",
        "from tensorflow.keras.layers import Dense, CuDNNLSTM, Dropout, BatchNormalization"
      ],
      "execution_count": 0,
      "outputs": []
    },
    {
      "cell_type": "markdown",
      "metadata": {
        "id": "xfNVHvQARw8n",
        "colab_type": "text"
      },
      "source": [
        "#ABOUT THE MODEL\n",
        "\n",
        "##Model\n",
        ">We have formatted the model as Sequential.\n",
        "###First Layers\n",
        ">We are using CuDNN-LSTM which are basically CUDA optimized Long-Short Term Memory Cells, a varient of classic CPU based LSTMs.\n",
        "###Additional Logic\n",
        ">We use a dropout of 35% after each LSTM layer.\n",
        "###Final Layers\n",
        ">At the end, we boil down the model to a 32 and a 2 fully connected layer.\n",
        "###Activation Functions Used\n",
        ">We use activation ReLU or \"Rectified Linear Unit\" which is basically -> _max(0.0, x)_  \n",
        ">We also use a softmax function, which is basically a _normalized exponential function_.\n",
        "\n",
        "##Loss, Optimizer and Metrics\n",
        "> We have used the sparce_categorical_crossentropy loss function to calculate loss from each epoch of training.  \n",
        "> We have used RMSProp or \"Root Mean Square Propagation\" to perform gradient desent on this Model.   \n",
        "> Our main metrics here is Accuracy."
      ]
    },
    {
      "cell_type": "code",
      "metadata": {
        "id": "24AU5b50ZB4C",
        "colab_type": "code",
        "outputId": "f11a47ee-b80b-4868-b581-9ce47f3cbf60",
        "colab": {
          "base_uri": "https://localhost:8080/",
          "height": 459
        }
      },
      "source": [
        "DPT = 0.35\n",
        "DENSE_SIZE, DENSE_DPT = 32, 0.2\n",
        "model = Sequential()\n",
        "model.add(CuDNNLSTM(BATCH_SIZE, \n",
        "                    input_shape=(train_x.shape[1:]), \n",
        "                    return_sequences=True))\n",
        "model.add(Dropout(DPT))\n",
        "\n",
        "model.add(CuDNNLSTM(BATCH_SIZE, \n",
        "                    input_shape=(train_x.shape[1:]), \n",
        "                    return_sequences=True))\n",
        "model.add(Dropout(DPT))\n",
        "\n",
        "model.add(CuDNNLSTM(BATCH_SIZE, \n",
        "                    input_shape=(train_x.shape[1:]), \n",
        "                    return_sequences=False))\n",
        "model.add(Dropout(DPT))\n",
        "\n",
        "model.add(Dense(DENSE_SIZE, activation='relu'))\n",
        "model.add(Dropout(DENSE_DPT))\n",
        "\n",
        "model.add(Dense(2, activation='softmax'))\n",
        "\n",
        "model.compile(loss='sparse_categorical_crossentropy',\n",
        "              optimizer='rmsprop',\n",
        "              metrics=['accuracy'])\n",
        "model.summary()\n",
        "\n",
        "\n",
        "history = model.fit(\n",
        "    train_x, train_y,\n",
        "    batch_size= BATCH_SIZE,\n",
        "    epochs=EPOCHS,\n",
        "    validation_data=(validation_x,validation_y),\n",
        "    verbose=1\n",
        ")"
      ],
      "execution_count": 0,
      "outputs": [
        {
          "output_type": "stream",
          "text": [
            "Model: \"sequential_3\"\n",
            "_________________________________________________________________\n",
            "Layer (type)                 Output Shape              Param #   \n",
            "=================================================================\n",
            "cu_dnnlstm_7 (CuDNNLSTM)     (None, 20, 64)            17920     \n",
            "_________________________________________________________________\n",
            "dropout_8 (Dropout)          (None, 20, 64)            0         \n",
            "_________________________________________________________________\n",
            "cu_dnnlstm_8 (CuDNNLSTM)     (None, 20, 64)            33280     \n",
            "_________________________________________________________________\n",
            "dropout_9 (Dropout)          (None, 20, 64)            0         \n",
            "_________________________________________________________________\n",
            "cu_dnnlstm_9 (CuDNNLSTM)     (None, 64)                33280     \n",
            "_________________________________________________________________\n",
            "dropout_10 (Dropout)         (None, 64)                0         \n",
            "_________________________________________________________________\n",
            "dense_4 (Dense)              (None, 32)                2080      \n",
            "_________________________________________________________________\n",
            "dropout_11 (Dropout)         (None, 32)                0         \n",
            "_________________________________________________________________\n",
            "dense_5 (Dense)              (None, 2)                 66        \n",
            "=================================================================\n",
            "Total params: 86,626\n",
            "Trainable params: 86,626\n",
            "Non-trainable params: 0\n",
            "_________________________________________________________________\n"
          ],
          "name": "stdout"
        }
      ]
    },
    {
      "cell_type": "code",
      "metadata": {
        "id": "9plSXjsOykiv",
        "colab_type": "code",
        "outputId": "75023c18-6ad4-43e0-dc00-2dcbbe06af5c",
        "colab": {
          "base_uri": "https://localhost:8080/",
          "height": 139
        }
      },
      "source": [
        "# AUTOMATION for training models :)\n",
        "RATIO_TO_PREDICT = \"PNB-INR\"\n",
        "validation_x , validation_y = preprocess_df(validation_main_df)\n",
        "prediction = model.predict(validation_x, batch_size = 64, verbose = 0)\n",
        "sum = 0\n",
        "for i in prediction:\n",
        "  sum += i[0]\n",
        "count+=1"
      ],
      "execution_count": 0,
      "outputs": [
        {
          "output_type": "stream",
          "text": [
            "            BJB-INR_close  BBA-INR_close  PNB-INR_close  YES-INR_close  target\n",
            "time                                                                          \n",
            "30-04-2019      -0.817659      -1.451630       0.218579       0.657223       1\n",
            "31-01-2019      -1.440030      -0.412944      -0.761171       1.195323       1\n",
            "30-01-2019       0.467419       0.073770      -0.126237       0.235314       1\n",
            "31-12-2018       0.587590       0.422257      -0.018600      -0.641941       0\n",
            "30-11-2018      -0.058739      -1.236531      -0.896064      -0.470956       0\n"
          ],
          "name": "stdout"
        }
      ]
    },
    {
      "cell_type": "code",
      "metadata": {
        "id": "pryoac4RY9Ge",
        "colab_type": "code",
        "colab": {}
      },
      "source": [
        "# We import matplotlib and create a function to plot history\n",
        "import matplotlib.pyplot as plt\n",
        "\n",
        "def plot_history(histories, key='acc'):\n",
        "  plt.figure(figsize=(16,10))\n",
        "\n",
        "  for name, history in histories:\n",
        "    val = plt.plot(history.epoch, history.history['val_'+key],\n",
        "                   '--', label=name.title()+' Val')\n",
        "    plt.plot(history.epoch, history.history[key], color=val[0].get_color(),\n",
        "             label=name.title()+' Train')\n",
        "\n",
        "  plt.xlabel('Epochs')\n",
        "  plt.ylabel(key.replace('_',' ').title())\n",
        "  plt.legend()\n",
        "\n",
        "  plt.xlim([0,max(history.epoch)])"
      ],
      "execution_count": 0,
      "outputs": []
    },
    {
      "cell_type": "markdown",
      "metadata": {
        "id": "f41AgeGFUi4O",
        "colab_type": "text"
      },
      "source": [
        "#OBSERVATIONS\n",
        "\n",
        "We observe that our model performs averagely on the first 400 epochs, but reaching the 512th epoch, the prediction of the validation data stays above 50%,\n",
        "in other words, _we will obtain a net profit using this algorithm in the LONG game_.\n",
        "\n",
        "Our final accuracy hovers over 65% on the data for this perticular bank."
      ]
    },
    {
      "cell_type": "code",
      "metadata": {
        "id": "Wm4vOO0-nQjb",
        "colab_type": "code",
        "outputId": "df981f8c-41e3-452b-ac1f-69ff4baff20a",
        "colab": {
          "base_uri": "https://localhost:8080/",
          "height": 136
        }
      },
      "source": [
        "# LETS NOW FIND OUT PREDICTION FOR A DIFFERENT BANK\n",
        "RATIO_TO_PREDICT = \"PNB-INR\"\n",
        "validation_x , validation_y = preprocess_df(validation_main_df)\n",
        "prediction = model.predict(validation_x, batch_size = 64, verbose = 0)\n",
        "for i in range(len(validation_y)):\n",
        "\tprint(\"X=%s, Predicted=%s\" % (validation_x[i], prediction[i]))"
      ],
      "execution_count": 0,
      "outputs": [
        {
          "output_type": "stream",
          "text": [
            "            BJB-INR_close  BBA-INR_close  PNB-INR_close  YES-INR_close  target\n",
            "time                                                                          \n",
            "30-04-2019      -0.817659      -1.451630       0.218579       0.657223       1\n",
            "31-01-2019      -1.440030      -0.412944      -0.761171       1.195323       1\n",
            "30-01-2019       0.467419       0.073770      -0.126237       0.235314       1\n",
            "31-12-2018       0.587590       0.422257      -0.018600      -0.641941       0\n",
            "30-11-2018      -0.058739      -1.236531      -0.896064      -0.470956       0\n"
          ],
          "name": "stdout"
        }
      ]
    },
    {
      "cell_type": "code",
      "metadata": {
        "id": "VvTEUmZfKlwl",
        "colab_type": "code",
        "outputId": "3abb3a3f-b426-440a-cc41-4ca113c4e7f9",
        "colab": {
          "base_uri": "https://localhost:8080/",
          "height": 35
        }
      },
      "source": [
        "sum = 0\n",
        "for i in prediction:\n",
        "  sum += i[1]\n",
        "print(\"The Accuracy of Prediction on a different bank is = \",sum/len(prediction)*100,\"%\")"
      ],
      "execution_count": 0,
      "outputs": [
        {
          "output_type": "stream",
          "text": [
            "The Accuracy of Prediction on a different bank is =  63.54013579504594 %\n"
          ],
          "name": "stdout"
        }
      ]
    },
    {
      "cell_type": "markdown",
      "metadata": {
        "id": "PZICjqmCVRqt",
        "colab_type": "text"
      },
      "source": [
        "#CONCLUSION\n",
        "\n",
        "We have generated a model which returns us with prediction accuracy of around 60% on ANY bank dataset, in other words, our transfered learning prediction is above 60%.\n",
        "\n",
        "So you will win 6 out of 10 times on avarage, ignore local limitations."
      ]
    },
    {
      "cell_type": "code",
      "metadata": {
        "id": "wxDWYB-vwRDY",
        "colab_type": "code",
        "colab": {}
      },
      "source": [
        "#Lets Save This Model\n",
        "model.save(\"Model_{}-{}.h5\".format(sum/len(prediction)*100,count))\n",
        "count+=1"
      ],
      "execution_count": 0,
      "outputs": []
    },
    {
      "cell_type": "code",
      "metadata": {
        "id": "cdsSiUmhwo6K",
        "colab_type": "code",
        "colab": {}
      },
      "source": [
        "# DEBUG VALUES\n",
        "count = 0"
      ],
      "execution_count": 0,
      "outputs": []
    }
  ]
}
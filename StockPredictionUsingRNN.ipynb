{
  "nbformat": 4,
  "nbformat_minor": 0,
  "metadata": {
    "colab": {
      "name": "StockPredictionUsingRNN.ipynb",
      "version": "0.3.2",
      "provenance": [],
      "include_colab_link": true
    },
    "kernelspec": {
      "name": "python3",
      "display_name": "Python 3"
    },
    "accelerator": "GPU"
  },
  "cells": [
    {
      "cell_type": "markdown",
      "metadata": {
        "id": "view-in-github",
        "colab_type": "text"
      },
      "source": [
        "<a href=\"https://colab.research.google.com/github/AbhinavRobinson/CS_WORKHORSE/blob/master/StockPredictionUsingRNN.ipynb\" target=\"_parent\"><img src=\"https://colab.research.google.com/assets/colab-badge.svg\" alt=\"Open In Colab\"/></a>"
      ]
    },
    {
      "cell_type": "markdown",
      "metadata": {
        "id": "wtQZkcqQmNsW",
        "colab_type": "text"
      },
      "source": [
        "# Stock Prediction Using RNN\n",
        "##For Education Use Only\n",
        "> Disclaimer : Do Not use this for real world purposes\n",
        "\n",
        "Hi there!\n",
        "\n",
        "In this Assignment of EMAT203L , We make a stock prediction algorithm.\n",
        "\n",
        "One way to achive this is using RNN, implemented via TensorFlow. \n",
        "We will be using TensorFlow 1.15 for this. This program may not be compatible with TensorFlow 2.X.X.\n",
        "Read the Documentation carefully!\n",
        "\n",
        "-Abhinav Robinson :)\n",
        "\n",
        "\n"
      ]
    },
    {
      "cell_type": "markdown",
      "metadata": {
        "id": "slzx4sUkqNCU",
        "colab_type": "text"
      },
      "source": [
        "#Method\n",
        "\n",
        "We are only concerned with the \"Close\" data at this moment.\n",
        "Hence we will use pandas to cleanup the data, enter data inside a Dataframe, with only the relavant columns."
      ]
    },
    {
      "cell_type": "code",
      "metadata": {
        "id": "Lpbfg3PMmC9c",
        "colab_type": "code",
        "colab": {
          "base_uri": "https://localhost:8080/",
          "height": 136
        },
        "outputId": "6ed8073e-0818-48ae-96f0-b74873cc2dbb"
      },
      "source": [
        "import pandas as pd\n",
        "\n",
        "# Lets check the data :)\n",
        "main_df = pd.DataFrame()\n",
        "\n",
        "# Lets combine all data in one dataframe\n",
        "ratios = [\"BJB-INR\",\"BBA-INR\",\"PNB-INR\",\"YES-INR\"]\n",
        "for ratio in ratios:\n",
        "  dataset = f\"{ratio}.csv\"\n",
        "  df = pd.read_csv(dataset,  \n",
        "                   names=[\"time\",\"open\",\"high\",\"low\",\"close\"])\n",
        "\n",
        "  df.rename(columns={\"close\": f\"{ratio}_close\"}, \n",
        "            inplace=True)\n",
        "  df.set_index(\"time\",inplace=True)\n",
        "  df = df[[f\"{ratio}_close\"]]\n",
        "\n",
        "  if len(main_df) == 0:\n",
        "    main_df = df\n",
        "  else:\n",
        "    main_df = main_df.join(df)\n",
        "\n",
        "# Lets Test our data cleanup\n",
        "print(main_df.head())"
      ],
      "execution_count": 1,
      "outputs": [
        {
          "output_type": "stream",
          "text": [
            "            BJB-INR_close  BBA-INR_close  PNB-INR_close  YES-INR_close\n",
            "time                                                                  \n",
            "30-08-2019        3332.50          92.60          64.90          59.95\n",
            "29-08-2019        3299.30          91.80          65.05          57.40\n",
            "28-08-2019        3326.35          94.50          65.65          59.50\n",
            "27-08-2019        3357.75          97.30          67.15          64.50\n",
            "26-08-2019        3324.25          95.05          65.75          62.90\n"
          ],
          "name": "stdout"
        }
      ]
    },
    {
      "cell_type": "code",
      "metadata": {
        "id": "21aTuan3p_VK",
        "colab_type": "code",
        "colab": {}
      },
      "source": [
        "import time\n",
        "# Now we define some time variables\n",
        "# Based on last 15 days\n",
        "SEQ_LEN = 15\n",
        "# We predict next 3 day\n",
        "# We will be going 3 divisions ahead, as a rule of thumb\n",
        "FUTURE_PERIOD_PREDICT = 1\n",
        "# on the YesBank EQ Close\n",
        "RATIO_TO_PREDICT = \"YES-INR\"\n",
        "# Defining no. of EPOCHS\n",
        "EPOCHS = 10\n",
        "# Defining Batch Size\n",
        "BATCH_SIZE = 64\n",
        "# Adding Names\n",
        "NAME = f\"{SEQ_LEN}-SEQ-{FUTURE_PERIOD_PREDICT}-PRED-{int(time.time())}\""
      ],
      "execution_count": 0,
      "outputs": []
    },
    {
      "cell_type": "code",
      "metadata": {
        "id": "jpPRKWjwrNQH",
        "colab_type": "code",
        "colab": {}
      },
      "source": [
        "def classify(current, future):\n",
        "  # aka, good thing, buy\n",
        "  if float(future) > float(current): return 1\n",
        "  # not a good thing, maybe? ;)\n",
        "  else: return 0"
      ],
      "execution_count": 0,
      "outputs": []
    },
    {
      "cell_type": "code",
      "metadata": {
        "id": "ioiIz39_rVVo",
        "colab_type": "code",
        "colab": {
          "base_uri": "https://localhost:8080/",
          "height": 136
        },
        "outputId": "414e599a-0f42-4431-c5b4-2e39b881c931"
      },
      "source": [
        "# Lets add future price as a column\n",
        "main_df['future'] = main_df[f\"{RATIO_TO_PREDICT}_close\"].shift(-FUTURE_PERIOD_PREDICT)\n",
        "print(main_df[[f\"{RATIO_TO_PREDICT}_close\", \"future\"]].head())"
      ],
      "execution_count": 40,
      "outputs": [
        {
          "output_type": "stream",
          "text": [
            "            YES-INR_close  future\n",
            "time                             \n",
            "26-08-2019          62.90   59.25\n",
            "23-08-2019          59.25   56.30\n",
            "22-08-2019          56.30   65.40\n",
            "21-08-2019          65.40   71.20\n",
            "20-08-2019          71.20   76.65\n"
          ],
          "name": "stdout"
        }
      ]
    },
    {
      "cell_type": "code",
      "metadata": {
        "id": "rgAR-hOVrZzl",
        "colab_type": "code",
        "colab": {
          "base_uri": "https://localhost:8080/",
          "height": 221
        },
        "outputId": "2f31b2bb-9289-4465-cd34-14306419b179"
      },
      "source": [
        "# add output of classify to a list shown as a column\n",
        "main_df['target'] = list(map(classify, \n",
        "                             main_df[f\"{RATIO_TO_PREDICT}_close\"],\n",
        "                             main_df[\"future\"]))\n",
        "\n",
        "print(main_df[[f\"{RATIO_TO_PREDICT}_close\", \"future\", \"target\"]].head(10))"
      ],
      "execution_count": 41,
      "outputs": [
        {
          "output_type": "stream",
          "text": [
            "            YES-INR_close  future  target\n",
            "time                                     \n",
            "26-08-2019          62.90   59.25       0\n",
            "23-08-2019          59.25   56.30       0\n",
            "22-08-2019          56.30   65.40       1\n",
            "21-08-2019          65.40   71.20       1\n",
            "20-08-2019          71.20   76.65       1\n",
            "19-08-2019          76.65   79.45       1\n",
            "16-08-2019          79.45   76.55       0\n",
            "14-08-2019          76.55   73.60       0\n",
            "13-08-2019          73.60   82.15       1\n",
            "09-08-2019          82.15   89.20       1\n"
          ],
          "name": "stdout"
        }
      ]
    },
    {
      "cell_type": "code",
      "metadata": {
        "id": "AOn7h5z-sItz",
        "colab_type": "code",
        "colab": {}
      },
      "source": [
        "# Noramlly data is sorted, but just in case\n",
        "# .values converts index values to numpy array\n",
        "times = sorted(main_df.index.values)\n",
        "# now we seperate the last 5% data for test data\n",
        "# last_5pct is a unix timestamp\n",
        "last_5pct = times[-int(0.05*len(times))]\n",
        "\n",
        "# Now we split the data\n",
        "validation_main_df = main_df[(main_df.index >= last_5pct)]\n",
        "main_df = main_df[(main_df.index < last_5pct)]"
      ],
      "execution_count": 0,
      "outputs": []
    },
    {
      "cell_type": "code",
      "metadata": {
        "id": "La_uA4bzsMt0",
        "colab_type": "code",
        "colab": {}
      },
      "source": [
        "# Import some more libraries ;_;\n",
        "from sklearn import preprocessing\n",
        "from collections import deque\n",
        "import random\n",
        "import numpy as np\n",
        "\n",
        "# Preprocess DF to scale all values of diff. coins on one scale\n",
        "# and add percent change\n",
        "def preprocess_df(df):\n",
        "  df = df.drop('future',1)\n",
        "\n",
        "  for col in df.columns:\n",
        "    if col != 'target':\n",
        "      df[col] = df[col].pct_change()\n",
        "      df.dropna(inplace=True)\n",
        "      df[col] = preprocessing.scale(df[col].values)\n",
        "\n",
        "  df.dropna(inplace=True)\n",
        "\n",
        "  sequential_data = []\n",
        "  prev_days = deque(maxlen = SEQ_LEN)\n",
        "  print(df.head())\n",
        "\n",
        "  for i in df.values:\n",
        "    prev_days.append([n for n in i[:-1]]) \n",
        "    if len(prev_days) == SEQ_LEN:\n",
        "      sequential_data.append([np.array(prev_days), i[-1]])\n",
        "\n",
        "  random.shuffle(sequential_data)\n",
        "\n",
        "  buys = []\n",
        "  sells = []\n",
        "\n",
        "  for seq, target, in sequential_data:\n",
        "    if target == 0:\n",
        "      sells.append([seq, target])\n",
        "    elif target == 1:\n",
        "      buys.append([seq, target])\n",
        "\n",
        "  random.shuffle(buys)\n",
        "  random.shuffle(sells)\n",
        "\n",
        "  lower = min(len(buys), len(sells))\n",
        "\n",
        "  # Upto 30K\n",
        "  buys = buys[:lower]\n",
        "  sells = sells[:lower]\n",
        "\n",
        "  sequential_data = buys+sells\n",
        "  random.shuffle(sequential_data)\n",
        "\n",
        "  X = []\n",
        "  y = []\n",
        "\n",
        "  for seq,target in sequential_data:\n",
        "    X.append(seq)\n",
        "    y.append(target)\n",
        "\n",
        "  return np.array(X), y"
      ],
      "execution_count": 0,
      "outputs": []
    },
    {
      "cell_type": "code",
      "metadata": {
        "id": "2y7ZTpZlsQg3",
        "colab_type": "code",
        "colab": {
          "base_uri": "https://localhost:8080/",
          "height": 255
        },
        "outputId": "d973ffb9-901d-403a-f8fb-8bb68665a4b6"
      },
      "source": [
        "train_x , train_y = preprocess_df(main_df)\n",
        "validation_x , validation_y = preprocess_df(validation_main_df)"
      ],
      "execution_count": 44,
      "outputs": [
        {
          "output_type": "stream",
          "text": [
            "            BJB-INR_close  BBA-INR_close  PNB-INR_close  YES-INR_close  target\n",
            "time                                                                          \n",
            "19-08-2019       0.504848       1.478318       0.951350       2.414274       1\n",
            "16-08-2019       0.199255      -0.067334       0.421475       1.150536       0\n",
            "14-08-2019      -0.484479      -0.509245      -1.441982      -1.155874       0\n",
            "13-08-2019      -0.748981      -1.131511      -0.142796      -1.220172       1\n",
            "09-08-2019       2.571365       0.660720       0.666083       3.665640       1\n",
            "            BJB-INR_close  BBA-INR_close  PNB-INR_close  YES-INR_close  target\n",
            "time                                                                          \n",
            "26-03-2019      -0.122491      -0.215198       0.216931       0.574202       0\n",
            "27-02-2019      -0.608769      -1.440625      -1.688417      -0.699928       1\n",
            "26-02-2019       0.480068      -0.003950      -0.089529       0.095751       0\n",
            "26-12-2018       0.068048       1.311888       0.442835      -1.580720       1\n",
            "26-11-2018      -0.275443      -0.682197      -0.699629       0.405841       1\n"
          ],
          "name": "stdout"
        }
      ]
    },
    {
      "cell_type": "code",
      "metadata": {
        "id": "a6yuo4nFsSMq",
        "colab_type": "code",
        "colab": {
          "base_uri": "https://localhost:8080/",
          "height": 68
        },
        "outputId": "b2d17290-f19a-4f53-b994-99dfbe993285"
      },
      "source": [
        "print(f\"train data: {len(train_x)} validation: {len(validation_x)}\")\n",
        "print(f\"Dont Buys : {train_y.count(0)}, buys: {train_y.count(1)}\")\n",
        "print(f\"VALIDATION Dont Buys: {validation_y.count(0)}, buys: {validation_y.count(1)}\")"
      ],
      "execution_count": 45,
      "outputs": [
        {
          "output_type": "stream",
          "text": [
            "train data: 1988 validation: 94\n",
            "Dont Buys : 994, buys: 994\n",
            "VALIDATION Dont Buys: 47, buys: 47\n"
          ],
          "name": "stdout"
        }
      ]
    },
    {
      "cell_type": "code",
      "metadata": {
        "id": "JmagaI2tsVxE",
        "colab_type": "code",
        "colab": {}
      },
      "source": [
        "import tensorflow as tf\n",
        "from tensorflow.keras.models import Sequential\n",
        "from tensorflow.keras.layers import Dense, Dropout, CuDNNLSTM, BatchNormalization\n",
        "from tensorflow.keras.callbacks import TensorBoard, ModelCheckpoint"
      ],
      "execution_count": 0,
      "outputs": []
    },
    {
      "cell_type": "code",
      "metadata": {
        "id": "-RZOubAAtQIm",
        "colab_type": "code",
        "colab": {
          "base_uri": "https://localhost:8080/",
          "height": 34
        },
        "outputId": "c5266b94-121d-4157-916a-d230683a9fd1"
      },
      "source": [
        "!mkdir \"models\""
      ],
      "execution_count": 47,
      "outputs": [
        {
          "output_type": "stream",
          "text": [
            "mkdir: cannot create directory ‘models’: File exists\n"
          ],
          "name": "stdout"
        }
      ]
    },
    {
      "cell_type": "code",
      "metadata": {
        "id": "qsjYK_5rsgE6",
        "colab_type": "code",
        "colab": {
          "base_uri": "https://localhost:8080/",
          "height": 374
        },
        "outputId": "1f294e4c-2521-4b96-8ccf-83c51a3294a0"
      },
      "source": [
        "model = Sequential()\n",
        "\n",
        "model.add(CuDNNLSTM(128, \n",
        "                    input_shape=(train_x.shape[1:]), \n",
        "                    return_sequences=True))\n",
        "model.add(Dropout(0.2))\n",
        "model.add(BatchNormalization())\n",
        "\n",
        "model.add(CuDNNLSTM(128, \n",
        "                    input_shape=(train_x.shape[1:]), \n",
        "                    return_sequences=True))\n",
        "model.add(Dropout(0.1))\n",
        "model.add(BatchNormalization())\n",
        "\n",
        "model.add(CuDNNLSTM(128, input_shape=(train_x.shape[1:])))\n",
        "model.add(Dropout(0.2))\n",
        "model.add(BatchNormalization())\n",
        "\n",
        "model.add(Dense(32, activation='relu'))\n",
        "model.add(Dropout(0.2))\n",
        "\n",
        "model.add(Dense(2, activation='softmax'))\n",
        "\n",
        "opt = tf.keras.optimizers.Adam(lr=0.001, decay=1e-6)\n",
        "\n",
        "model.compile(loss='sparse_categorical_crossentropy',\n",
        "              optimizer= opt,\n",
        "              metrics=['accuracy'])\n",
        "\n",
        "# tensorboard = TensorBoard(log_dir=f'logs/{NAME}')\n",
        "\n",
        "# filepath = \"RNN_Final-{epoch:02d}-{val_acc: .3f}\"\n",
        "# checkpoint = ModelCheckpoint(\"models/{}.model\".format(filepath, \n",
        "#                                                       monitor= 'val_acc',\n",
        "#                                                       verbose=1,\n",
        "#                                                       save_best_only = True,\n",
        "#                                                       mode='max'))\n",
        "\n",
        "history = model.fit(\n",
        "    train_x, train_y,\n",
        "    batch_size= BATCH_SIZE,\n",
        "    epochs=EPOCHS,\n",
        "    validation_data=(validation_x,validation_y)\n",
        ")"
      ],
      "execution_count": 76,
      "outputs": [
        {
          "output_type": "stream",
          "text": [
            "Train on 1988 samples, validate on 94 samples\n",
            "Epoch 1/10\n",
            "1988/1988 [==============================] - 5s 2ms/sample - loss: 0.8710 - acc: 0.5292 - val_loss: 0.6929 - val_acc: 0.5000\n",
            "Epoch 2/10\n",
            "1988/1988 [==============================] - 1s 330us/sample - loss: 0.7939 - acc: 0.5156 - val_loss: 0.6932 - val_acc: 0.5106\n",
            "Epoch 3/10\n",
            "1988/1988 [==============================] - 1s 343us/sample - loss: 0.7669 - acc: 0.5267 - val_loss: 0.6946 - val_acc: 0.5000\n",
            "Epoch 4/10\n",
            "1988/1988 [==============================] - 1s 345us/sample - loss: 0.7529 - acc: 0.5302 - val_loss: 0.6931 - val_acc: 0.5000\n",
            "Epoch 5/10\n",
            "1988/1988 [==============================] - 1s 334us/sample - loss: 0.7369 - acc: 0.5277 - val_loss: 0.6951 - val_acc: 0.5000\n",
            "Epoch 6/10\n",
            "1988/1988 [==============================] - 1s 338us/sample - loss: 0.7193 - acc: 0.5513 - val_loss: 0.6925 - val_acc: 0.4681\n",
            "Epoch 7/10\n",
            "1988/1988 [==============================] - 1s 337us/sample - loss: 0.7130 - acc: 0.5453 - val_loss: 0.6922 - val_acc: 0.5213\n",
            "Epoch 8/10\n",
            "1988/1988 [==============================] - 1s 357us/sample - loss: 0.6981 - acc: 0.5498 - val_loss: 0.6949 - val_acc: 0.5426\n",
            "Epoch 9/10\n",
            "1988/1988 [==============================] - 1s 325us/sample - loss: 0.6968 - acc: 0.5699 - val_loss: 0.6877 - val_acc: 0.5426\n",
            "Epoch 10/10\n",
            "1988/1988 [==============================] - 1s 335us/sample - loss: 0.6857 - acc: 0.5578 - val_loss: 0.6882 - val_acc: 0.5319\n"
          ],
          "name": "stdout"
        }
      ]
    },
    {
      "cell_type": "code",
      "metadata": {
        "id": "leK2vCuMspDA",
        "colab_type": "code",
        "colab": {}
      },
      "source": [
        "# We import matplotlib and create a function to plot history\n",
        "import matplotlib.pyplot as plt\n",
        "\n",
        "def plot_history(histories, key='acc'):\n",
        "  plt.figure(figsize=(16,10))\n",
        "\n",
        "  for name, history in histories:\n",
        "    val = plt.plot(history.epoch, history.history['val_'+key],\n",
        "                   '--', label=name.title()+' Val')\n",
        "    plt.plot(history.epoch, history.history[key], color=val[0].get_color(),\n",
        "             label=name.title()+' Train')\n",
        "\n",
        "  plt.xlabel('Epochs')\n",
        "  plt.ylabel(key.replace('_',' ').title())\n",
        "  plt.legend()\n",
        "\n",
        "  plt.xlim([0,max(history.epoch)])"
      ],
      "execution_count": 0,
      "outputs": []
    },
    {
      "cell_type": "code",
      "metadata": {
        "id": "EvO7sYhHtzlt",
        "colab_type": "code",
        "colab": {
          "base_uri": "https://localhost:8080/",
          "height": 609
        },
        "outputId": "01889d12-3103-4985-aa48-9db89cf09678"
      },
      "source": [
        "plot_history([('Model History',history)])"
      ],
      "execution_count": 78,
      "outputs": [
        {
          "output_type": "display_data",
          "data": {
            "image/png": "[encoded data removed]",
            "text/plain": [
              "<Figure size 1152x720 with 1 Axes>"
            ]
          },
          "metadata": {
            "tags": []
          }
        }
      ]
    },
    {
      "cell_type": "code",
      "metadata": {
        "id": "4qbiss54t1H8",
        "colab_type": "code",
        "colab": {}
      },
      "source": [
        ""
      ],
      "execution_count": 0,
      "outputs": []
    }
  ]
}
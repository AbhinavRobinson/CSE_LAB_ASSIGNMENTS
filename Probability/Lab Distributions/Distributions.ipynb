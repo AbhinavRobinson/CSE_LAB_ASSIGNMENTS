{
  "nbformat": 4,
  "nbformat_minor": 0,
  "metadata": {
    "colab": {
      "name": "Distributions.ipynb",
      "provenance": []
    },
    "kernelspec": {
      "name": "python3",
      "display_name": "Python 3"
    }
  },
  "cells": [
    {
      "cell_type": "markdown",
      "metadata": {
        "id": "P5iEBvDF4mlb",
        "colab_type": "text"
      },
      "source": [
        "#Probability Lab 6\n",
        "## Abhinav Robinson // E18CSE006\n",
        "###About \n",
        "Various types of distributions"
      ]
    },
    {
      "cell_type": "code",
      "metadata": {
        "id": "ZoNeKot_4R4B",
        "colab_type": "code",
        "outputId": "ed6875a6-9cfd-48b7-8f38-2f14a278ae00",
        "colab": {
          "base_uri": "https://localhost:8080/",
          "height": 84
        }
      },
      "source": [
        "import numpy as np\n",
        "\n",
        "SAMPLE_SIZE = 100000\n",
        "\n",
        "# X ~ N(0,1)\n",
        "mu, sigma = 0, 1\n",
        "X = np.random.normal(mu, sigma, SAMPLE_SIZE)\n",
        "\n",
        "a = 3\n",
        "b = 5\n",
        "\n",
        "# aX+b ~ N(b,a2)\n",
        "newX  = [(a*num)+b for num in X]\n",
        "\n",
        "print(f\"Expected mu : {b}\")\n",
        "print(f\"Calculated mu : {np.mean(newX)}\")\n",
        "print(f\"Expected sigma : {a}\")\n",
        "print(f\"Calulated sigma : {np.std(newX)}\")"
      ],
      "execution_count": 0,
      "outputs": [
        {
          "output_type": "stream",
          "text": [
            "Expected mu : 5\n",
            "Calculated mu : 4.9897698086973765\n",
            "Expected sigma : 3\n",
            "Calulated sigma : 2.9926712382993417\n"
          ],
          "name": "stdout"
        }
      ]
    },
    {
      "cell_type": "code",
      "metadata": {
        "id": "D8HO-9_34VfF",
        "colab_type": "code",
        "outputId": "08b462e0-0e27-4e09-cd50-f0bf904e9a87",
        "colab": {
          "base_uri": "https://localhost:8080/",
          "height": 84
        }
      },
      "source": [
        "import numpy as np\n",
        "import math\n",
        "\n",
        "SAMPLE_SIZE = 100000\n",
        "a = 3\n",
        "b = 5\n",
        "\n",
        "# X ~ N(a, b2)\n",
        "mu, sigma = a, b**2\n",
        "X = np.random.normal(mu, sigma, SAMPLE_SIZE)\n",
        "\n",
        "## (X-a)/b ~N(0,1).\n",
        "newX  = [((num - a)/b) for num in X]\n",
        "\n",
        "print(f\"Expected mu : {0}\")\n",
        "print(f\"Calculated mu : {np.mean(newX)}\")\n",
        "print(f\"Expected sigma : {math.floor(np.std(newX))}\")\n",
        "print(f\"Calulated sigma : {np.std(newX)}\")"
      ],
      "execution_count": 0,
      "outputs": [
        {
          "output_type": "stream",
          "text": [
            "Expected mu : 0\n",
            "Calculated mu : 0.014274480614599275\n",
            "Expected sigma : 4\n",
            "Calulated sigma : 4.996474722957061\n"
          ],
          "name": "stdout"
        }
      ]
    },
    {
      "cell_type": "code",
      "metadata": {
        "id": "rOHdDys84Ykn",
        "colab_type": "code",
        "outputId": "6e6905b2-89ce-4d3e-8ea7-a22b3afb8b87",
        "colab": {
          "base_uri": "https://localhost:8080/",
          "height": 823
        }
      },
      "source": [
        "import matplotlib.pyplot as plt\n",
        "import numpy as np\n",
        "\n",
        "SAMPLE_SIZE = 10000\n",
        "\n",
        "# normal dist\n",
        "mu, sigma = 3, 5**2\n",
        "norm = np.random.normal(mu, sigma, SAMPLE_SIZE)\n",
        "plt.hist(norm)\n",
        "plt.show()\n",
        "\n",
        "# poisson dist\n",
        "norm = np.random.poisson(5, SAMPLE_SIZE)\n",
        "count, bins, ignored = plt.hist(norm, 15, normed=True)\n",
        "plt.show()\n",
        "\n",
        "# Exp dist\n",
        "exp = np.random.exponential(100, SAMPLE_SIZE)\n",
        "plt.hist(exp)\n",
        "plt.show()"
      ],
      "execution_count": 0,
      "outputs": [
        {
          "output_type": "display_data",
          "data": {
            "image/png": "[encoded data removed]",
            "text/plain": [
              "<Figure size 432x288 with 1 Axes>"
            ]
          },
          "metadata": {
            "tags": []
          }
        },
        {
          "output_type": "stream",
          "text": [
            "/usr/local/lib/python3.6/dist-packages/matplotlib/axes/_axes.py:6521: MatplotlibDeprecationWarning: \n",
            "The 'normed' kwarg was deprecated in Matplotlib 2.1 and will be removed in 3.1. Use 'density' instead.\n",
            "  alternative=\"'density'\", removal=\"3.1\")\n"
          ],
          "name": "stderr"
        },
        {
          "output_type": "display_data",
          "data": {
            "image/png": "[encoded data removed]",
            "text/plain": [
              "<Figure size 432x288 with 1 Axes>"
            ]
          },
          "metadata": {
            "tags": []
          }
        },
        {
          "output_type": "display_data",
          "data": {
            "image/png": "[encoded data removed]",
            "text/plain": [
              "<Figure size 432x288 with 1 Axes>"
            ]
          },
          "metadata": {
            "tags": []
          }
        }
      ]
    }
  ]
}